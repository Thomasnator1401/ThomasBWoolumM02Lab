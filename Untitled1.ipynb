{
 "cells": [
  {
   "cell_type": "code",
   "execution_count": null,
   "id": "cf052068",
   "metadata": {},
   "outputs": [
    {
     "name": "stdout",
     "output_type": "stream",
     "text": [
      "Enter the student's last name: Somers\n",
      "Enter the student's first name: Sasha\n",
      "Enter the student's GPA: 4.0\n",
      "Sasha Somers has made the Dean's List.\n",
      "Enter the student's last name: Rueth\n",
      "Enter the student's first name: Carol\n",
      "Enter the student's GPA: 3.5\n",
      "Carol Rueth has made the Dean's List.\n",
      "Enter the student's last name: Berger\n",
      "Enter the student's first name: Melanie\n",
      "Enter the student's GPA: 4.0\n",
      "Melanie Berger has made the Dean's List.\n"
     ]
    }
   ],
   "source": [
    "# Your Name\n",
    "# student_gpa.py\n",
    "# This app accepts student names and GPAs, and tests if the student qualifies for the Dean's List or the Honor Roll.\n",
    "\n",
    "while True:\n",
    "    last_name = input(\"Enter the student's last name: \")\n",
    "    if last_name == 'ZZZ':\n",
    "        break\n",
    "\n",
    "    first_name = input(\"Enter the student's first name: \")\n",
    "    gpa = float(input(\"Enter the student's GPA: \"))\n",
    "\n",
    "    if gpa >= 3.5:\n",
    "        print(f\"{first_name} {last_name} has made the Dean's List.\")\n",
    "    elif gpa >= 3.25:\n",
    "        print(f\"{first_name} {last_name} has made the Honor Roll.\")\n"
   ]
  },
  {
   "cell_type": "code",
   "execution_count": null,
   "id": "be59ce4c",
   "metadata": {},
   "outputs": [],
   "source": []
  }
 ],
 "metadata": {
  "kernelspec": {
   "display_name": "Python 3 (ipykernel)",
   "language": "python",
   "name": "python3"
  }
 },
 "nbformat": 4,
 "nbformat_minor": 5
}
